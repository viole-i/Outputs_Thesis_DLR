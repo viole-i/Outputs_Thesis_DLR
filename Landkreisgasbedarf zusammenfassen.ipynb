{
 "cells": [
  {
   "cell_type": "code",
   "execution_count": 11,
   "metadata": {},
   "outputs": [
    {
     "name": "stdout",
     "output_type": "stream",
     "text": [
      "The autoreload extension is already loaded. To reload it, use:\n",
      "  %reload_ext autoreload\n"
     ]
    }
   ],
   "source": [
    "%load_ext autoreload\n",
    "%autoreload 2\n",
    "import copy\n",
    "import os\n",
    "import pandas as pd\n",
    "import matplotlib.pyplot as plt\n",
    "import tsam.timeseriesaggregation as tsam\n",
    "import numpy as np\n",
    "%matplotlib inline"
   ]
  },
  {
   "cell_type": "code",
   "execution_count": 12,
   "metadata": {},
   "outputs": [],
   "source": [
    "raw = pd.read_csv('sectors_sum_gas_demand_time_series_in_MW.csv', index_col = 0)"
   ]
  },
  {
   "cell_type": "markdown",
   "metadata": {},
   "source": [
    "## Hierarchical aggregation, not normalized"
   ]
  },
  {
   "cell_type": "code",
   "execution_count": 13,
   "metadata": {},
   "outputs": [],
   "source": [
    "def plotTS(data, periodlength, vmin, vmax, label = 'T [°C]'):\n",
    "    fig, axes = plt.subplots(figsize = [6, 2], dpi = 100, nrows = 1, ncols = 1)\n",
    "    stacked, timeindex = tsam.unstackToPeriods(copy.deepcopy(data), periodlength)\n",
    "    cax = axes.imshow(stacked.values.T, interpolation = 'nearest', vmin = vmin, vmax = vmax)\n",
    "    axes.set_aspect('auto')  \n",
    "    axes.set_ylabel('Hour')\n",
    "    plt.xlabel('Day')\n",
    "\n",
    "    fig.subplots_adjust(right = 1.2)\n",
    "    cbar=plt.colorbar(cax)    \n",
    "    cbar.set_label(label)"
   ]
  },
  {
   "cell_type": "code",
   "execution_count": 23,
   "metadata": {},
   "outputs": [
    {
     "name": "stdout",
     "output_type": "stream",
     "text": [
      "10 days:\n"
     ]
    },
    {
     "data": {
      "text/html": [
       "<div>\n",
       "<style scoped>\n",
       "    .dataframe tbody tr th:only-of-type {\n",
       "        vertical-align: middle;\n",
       "    }\n",
       "\n",
       "    .dataframe tbody tr th {\n",
       "        vertical-align: top;\n",
       "    }\n",
       "\n",
       "    .dataframe thead th {\n",
       "        text-align: right;\n",
       "    }\n",
       "</style>\n",
       "<table border=\"1\" class=\"dataframe\">\n",
       "  <thead>\n",
       "    <tr style=\"text-align: right;\">\n",
       "      <th></th>\n",
       "      <th>RMSE</th>\n",
       "      <th>RMSE_duration</th>\n",
       "      <th>MAE</th>\n",
       "    </tr>\n",
       "  </thead>\n",
       "  <tbody>\n",
       "    <tr>\n",
       "      <th>1001</th>\n",
       "      <td>0.024825</td>\n",
       "      <td>0.007460</td>\n",
       "      <td>0.019183</td>\n",
       "    </tr>\n",
       "    <tr>\n",
       "      <th>2000</th>\n",
       "      <td>0.026691</td>\n",
       "      <td>0.007339</td>\n",
       "      <td>0.018789</td>\n",
       "    </tr>\n",
       "  </tbody>\n",
       "</table>\n",
       "</div>"
      ],
      "text/plain": [
       "          RMSE  RMSE_duration       MAE\n",
       "1001  0.024825       0.007460  0.019183\n",
       "2000  0.026691       0.007339  0.018789"
      ]
     },
     "execution_count": 23,
     "metadata": {},
     "output_type": "execute_result"
    }
   ],
   "source": [
    "##Hierarchical aggregation with medoid representation and 10 typical days with 24 hourly segments\n",
    "\n",
    "#Initialize an aggregation class object with hierarchical as method for eight typical days\n",
    "aggregation = tsam.TimeSeriesAggregation(raw, noTypicalPeriods = 10, hoursPerPeriod = 24, \n",
    "                                        clusterMethod = 'hierarchical')\n",
    "#Create the typical periods\n",
    "typPeriods = aggregation.createTypicalPeriods()\n",
    "\n",
    "#Predict original data\n",
    "predicted10 = aggregation.predictOriginalData()\n",
    "name_predicted10= \"10 days:\"\n",
    "print(name_predicted10)\n",
    "#Get accuracy indicators\n",
    "aggregation.accuracyIndicators()"
   ]
  },
  {
   "cell_type": "code",
   "execution_count": 24,
   "metadata": {},
   "outputs": [
    {
     "name": "stdout",
     "output_type": "stream",
     "text": [
      "20 days:\n"
     ]
    },
    {
     "data": {
      "text/html": [
       "<div>\n",
       "<style scoped>\n",
       "    .dataframe tbody tr th:only-of-type {\n",
       "        vertical-align: middle;\n",
       "    }\n",
       "\n",
       "    .dataframe tbody tr th {\n",
       "        vertical-align: top;\n",
       "    }\n",
       "\n",
       "    .dataframe thead th {\n",
       "        text-align: right;\n",
       "    }\n",
       "</style>\n",
       "<table border=\"1\" class=\"dataframe\">\n",
       "  <thead>\n",
       "    <tr style=\"text-align: right;\">\n",
       "      <th></th>\n",
       "      <th>RMSE</th>\n",
       "      <th>RMSE_duration</th>\n",
       "      <th>MAE</th>\n",
       "    </tr>\n",
       "  </thead>\n",
       "  <tbody>\n",
       "    <tr>\n",
       "      <th>1001</th>\n",
       "      <td>0.017299</td>\n",
       "      <td>0.004243</td>\n",
       "      <td>0.013079</td>\n",
       "    </tr>\n",
       "    <tr>\n",
       "      <th>2000</th>\n",
       "      <td>0.016342</td>\n",
       "      <td>0.004564</td>\n",
       "      <td>0.011987</td>\n",
       "    </tr>\n",
       "  </tbody>\n",
       "</table>\n",
       "</div>"
      ],
      "text/plain": [
       "          RMSE  RMSE_duration       MAE\n",
       "1001  0.017299       0.004243  0.013079\n",
       "2000  0.016342       0.004564  0.011987"
      ]
     },
     "execution_count": 24,
     "metadata": {},
     "output_type": "execute_result"
    }
   ],
   "source": [
    "##Hierarchical aggregation with medoid representation and 20 typical days with 12 irregular segments\n",
    "\n",
    "aggregationSeg = tsam.TimeSeriesAggregation(raw, noTypicalPeriods = 20, hoursPerPeriod = 24, \n",
    "                                        clusterMethod = 'hierarchical', segmentation=True, noSegments=12)\n",
    "\n",
    "#Create the typical periods\n",
    "typPeriodsSeg = aggregationSeg.createTypicalPeriods()\n",
    "\n",
    "#Predict original data\n",
    "predicted20 = aggregationSeg.predictOriginalData()\n",
    "name_predicted20= \"20 days:\"\n",
    "print(name_predicted20)\n",
    "#Get accuracy indicators\n",
    "aggregationSeg.accuracyIndicators()"
   ]
  },
  {
   "cell_type": "markdown",
   "metadata": {},
   "source": [
    "## Hierarchical aggregation, normalized"
   ]
  },
  {
   "cell_type": "code",
   "execution_count": 25,
   "metadata": {},
   "outputs": [
    {
     "name": "stdout",
     "output_type": "stream",
     "text": [
      "10 days normalized:\n"
     ]
    },
    {
     "data": {
      "text/html": [
       "<div>\n",
       "<style scoped>\n",
       "    .dataframe tbody tr th:only-of-type {\n",
       "        vertical-align: middle;\n",
       "    }\n",
       "\n",
       "    .dataframe tbody tr th {\n",
       "        vertical-align: top;\n",
       "    }\n",
       "\n",
       "    .dataframe thead th {\n",
       "        text-align: right;\n",
       "    }\n",
       "</style>\n",
       "<table border=\"1\" class=\"dataframe\">\n",
       "  <thead>\n",
       "    <tr style=\"text-align: right;\">\n",
       "      <th></th>\n",
       "      <th>RMSE</th>\n",
       "      <th>RMSE_duration</th>\n",
       "      <th>MAE</th>\n",
       "    </tr>\n",
       "  </thead>\n",
       "  <tbody>\n",
       "    <tr>\n",
       "      <th>1001</th>\n",
       "      <td>0.024825</td>\n",
       "      <td>0.007460</td>\n",
       "      <td>0.019183</td>\n",
       "    </tr>\n",
       "    <tr>\n",
       "      <th>2000</th>\n",
       "      <td>0.026691</td>\n",
       "      <td>0.007339</td>\n",
       "      <td>0.018789</td>\n",
       "    </tr>\n",
       "  </tbody>\n",
       "</table>\n",
       "</div>"
      ],
      "text/plain": [
       "          RMSE  RMSE_duration       MAE\n",
       "1001  0.024825       0.007460  0.019183\n",
       "2000  0.026691       0.007339  0.018789"
      ]
     },
     "execution_count": 25,
     "metadata": {},
     "output_type": "execute_result"
    }
   ],
   "source": [
    "##Normalized\n",
    "normed_raw = raw / raw.max()\n",
    "        \n",
    "##Hierarchical aggregation with medoid representation and 10 typical days, normalized\n",
    "\n",
    "aggregationSegnorm = tsam.TimeSeriesAggregation(normed_raw, noTypicalPeriods = 10, hoursPerPeriod = 24, \n",
    "                                        clusterMethod = 'hierarchical')\n",
    "\n",
    "#Create the typical periods\n",
    "typPeriodsSegnorm = aggregationSegnorm.createTypicalPeriods()\n",
    "\n",
    "#Predict original data\n",
    "predicted10norm = aggregationSegnorm.predictOriginalData()\n",
    "predicted10normb = predicted10norm * raw.max()\n",
    "name_predicted10normb= \"10 days normalized:\"\n",
    "print(name_predicted10normb)\n",
    "\n",
    "#Get accuracy indicators\n",
    "aggregationSegnorm.accuracyIndicators()"
   ]
  },
  {
   "cell_type": "code",
   "execution_count": 17,
   "metadata": {},
   "outputs": [
    {
     "data": {
      "text/plain": [
       "Text(0, 0.5, 'Duration Load in 1001 [MW]')"
      ]
     },
     "execution_count": 17,
     "metadata": {},
     "output_type": "execute_result"
    },
    {
     "data": {
      "image/png": "[encoded data removed]",
      "text/plain": [
       "<Figure size 600x200 with 1 Axes>"
      ]
     },
     "metadata": {
      "needs_background": "light"
     },
     "output_type": "display_data"
    }
   ],
   "source": [
    "##Comparison of the aggregations 1001\n",
    "fig, axes = plt.subplots(figsize = [6, 2], dpi = 100, nrows = 1, ncols = 1)\n",
    "raw['1001'].sort_values(ascending=False).reset_index(drop=True).plot(label = 'Original')\n",
    "predicted10['1001'].sort_values(ascending=False).reset_index(drop=True).plot(label = '10 with 24 hours')\n",
    "predicted20['1001'].sort_values(\n",
    "    ascending=False).reset_index(drop=True).plot(label = '20 with 12 Seg')\n",
    "predicted10normb['1001'].sort_values(\n",
    "    ascending=False).reset_index(drop=True).plot(label = '10 with 24 hours, normalized')\n",
    "plt.legend()\n",
    "plt.xlabel('Hours [h]')\n",
    "plt.ylabel('Duration Load in 1001 [MW]')\n",
    "\n"
   ]
  },
  {
   "cell_type": "code",
   "execution_count": 18,
   "metadata": {},
   "outputs": [
    {
     "data": {
      "text/plain": [
       "Text(0, 0.5, 'Duration Load in 2000 [MW]')"
      ]
     },
     "execution_count": 18,
     "metadata": {},
     "output_type": "execute_result"
    },
    {
     "data": {
      "image/png": "[encoded data removed]",
      "text/plain": [
       "<Figure size 600x200 with 1 Axes>"
      ]
     },
     "metadata": {
      "needs_background": "light"
     },
     "output_type": "display_data"
    }
   ],
   "source": [
    "##Comparison of the aggregations 2000\n",
    "fig, axes = plt.subplots(figsize = [6, 2], dpi = 100, nrows = 1, ncols = 1)\n",
    "raw['2000'].sort_values(ascending=False).reset_index(drop=True).plot(label = 'Original')\n",
    "predicted10['2000'].sort_values(ascending=False).reset_index(drop=True).plot(label = '10 with 24 hours')\n",
    "predicted10['2000'].sort_values(\n",
    "    ascending=False).reset_index(drop=True).plot(label = '20 with 12 Seg')\n",
    "predicted10normb['2000'].sort_values(\n",
    "    ascending=False).reset_index(drop=True).plot(label = '10 with 24 hours, normalized')\n",
    "plt.legend()\n",
    "plt.xlabel('Hours [h]')\n",
    "plt.ylabel('Duration Load in 2000 [MW]')"
   ]
  },
  {
   "cell_type": "code",
   "execution_count": 19,
   "metadata": {},
   "outputs": [
    {
     "data": {
      "image/png": "[encoded data removed]",
      "text/plain": [
       "<Figure size 600x200 with 2 Axes>"
      ]
     },
     "metadata": {
      "needs_background": "light"
     },
     "output_type": "display_data"
    }
   ],
   "source": [
    "##Originale Daten 1001\n",
    "param = '1001'\n",
    "plotTS(raw[param], 24, vmin = raw[param].min(), vmax = raw[param].max(), label = param)"
   ]
  },
  {
   "cell_type": "code",
   "execution_count": 20,
   "metadata": {},
   "outputs": [
    {
     "ename": "NameError",
     "evalue": "name 'predictedPeriods' is not defined",
     "output_type": "error",
     "traceback": [
      "\u001b[0;31m---------------------------------------------------------------------------\u001b[0m",
      "\u001b[0;31mNameError\u001b[0m                                 Traceback (most recent call last)",
      "\u001b[0;32m<ipython-input-20-9ed059c5af94>\u001b[0m in \u001b[0;36m<module>\u001b[0;34m\u001b[0m\n\u001b[1;32m      1\u001b[0m \u001b[0;31m#1001, aggregation 10 days\u001b[0m\u001b[0;34m\u001b[0m\u001b[0;34m\u001b[0m\u001b[0;34m\u001b[0m\u001b[0m\n\u001b[0;32m----> 2\u001b[0;31m \u001b[0mplotTS\u001b[0m\u001b[0;34m(\u001b[0m\u001b[0mpredictedPeriods\u001b[0m\u001b[0;34m[\u001b[0m\u001b[0mparam\u001b[0m\u001b[0;34m]\u001b[0m\u001b[0;34m,\u001b[0m \u001b[0;36m24\u001b[0m\u001b[0;34m,\u001b[0m \u001b[0mvmin\u001b[0m \u001b[0;34m=\u001b[0m \u001b[0mraw\u001b[0m\u001b[0;34m[\u001b[0m\u001b[0mparam\u001b[0m\u001b[0;34m]\u001b[0m\u001b[0;34m.\u001b[0m\u001b[0mmin\u001b[0m\u001b[0;34m(\u001b[0m\u001b[0;34m)\u001b[0m\u001b[0;34m,\u001b[0m \u001b[0mvmax\u001b[0m \u001b[0;34m=\u001b[0m \u001b[0mraw\u001b[0m\u001b[0;34m[\u001b[0m\u001b[0mparam\u001b[0m\u001b[0;34m]\u001b[0m\u001b[0;34m.\u001b[0m\u001b[0mmax\u001b[0m\u001b[0;34m(\u001b[0m\u001b[0;34m)\u001b[0m\u001b[0;34m,\u001b[0m \u001b[0mlabel\u001b[0m \u001b[0;34m=\u001b[0m \u001b[0mparam\u001b[0m\u001b[0;34m)\u001b[0m\u001b[0;34m\u001b[0m\u001b[0;34m\u001b[0m\u001b[0m\n\u001b[0m",
      "\u001b[0;31mNameError\u001b[0m: name 'predictedPeriods' is not defined"
     ]
    }
   ],
   "source": [
    "#1001, aggregation 10 days\n",
    "plotTS(predictedPeriods[param], 24, vmin = raw[param].min(), vmax = raw[param].max(), label = param)"
   ]
  },
  {
   "cell_type": "code",
   "execution_count": null,
   "metadata": {},
   "outputs": [],
   "source": [
    "#1001, aggregation 10days, normalized\n",
    "plotTS(predictedPeriodsSegnormb[param], 24, vmin = raw[param].min(), vmax = raw[param].max(), label = param)"
   ]
  },
  {
   "cell_type": "code",
   "execution_count": null,
   "metadata": {},
   "outputs": [],
   "source": [
    "#1001, aggregation 20days\n",
    "plotTS(predictedPeriodsSeg[param], 24, vmin = raw[param].min(), vmax = raw[param].max(), label = param)"
   ]
  },
  {
   "cell_type": "code",
   "execution_count": null,
   "metadata": {},
   "outputs": [],
   "source": [
    "fig, axes = plt.subplots(figsize = [6, 2], dpi = 100, nrows = 1, ncols = 1)\n",
    "raw['1001']['20180210':'20180218'].plot(label = 'Original')\n",
    "predicted10['1001']['20180210':'20180218'].plot(label = '10 with 24 hours')\n",
    "predicted10normb['1001']['20180210':'20180218'].plot(label = '10 with 24 hours, normalized')\n",
    "predicted20['1001']['20180210':'20180218'].plot(label = '20 with 12 seg')\n",
    "plt.legend()\n",
    "plt.ylabel('Load [MW]')"
   ]
  },
  {
   "cell_type": "code",
   "execution_count": null,
   "metadata": {},
   "outputs": [],
   "source": [
    "fig, axes = plt.subplots(figsize = [6, 2], dpi = 100, nrows = 1, ncols = 1)\n",
    "raw['2000']['20180210':'20180218'].plot(label = 'Original')\n",
    "predicted10['2000']['20180210':'20180218'].plot(label = '10 with 24 hours')\n",
    "predicted10normb['2000']['20180210':'20180218'].plot(label = '10 with 24 hours, normalized')\n",
    "predicted20['2000']['20180210':'20180218'].plot(label = '20 with 12 seg')\n",
    "plt.legend()\n",
    "plt.ylabel('Load [MW]')"
   ]
  },
  {
   "cell_type": "code",
   "execution_count": null,
   "metadata": {},
   "outputs": [],
   "source": [
    "aggregationSeg.createTypicalPeriods()"
   ]
  },
  {
   "cell_type": "code",
   "execution_count": 21,
   "metadata": {
    "scrolled": true
   },
   "outputs": [
    {
     "data": {
      "text/html": [
       "<div>\n",
       "<style scoped>\n",
       "    .dataframe tbody tr th:only-of-type {\n",
       "        vertical-align: middle;\n",
       "    }\n",
       "\n",
       "    .dataframe tbody tr th {\n",
       "        vertical-align: top;\n",
       "    }\n",
       "\n",
       "    .dataframe thead th {\n",
       "        text-align: right;\n",
       "    }\n",
       "</style>\n",
       "<table border=\"1\" class=\"dataframe\">\n",
       "  <thead>\n",
       "    <tr style=\"text-align: right;\">\n",
       "      <th></th>\n",
       "      <th></th>\n",
       "      <th>1001</th>\n",
       "      <th>2000</th>\n",
       "    </tr>\n",
       "    <tr>\n",
       "      <th></th>\n",
       "      <th>TimeStep</th>\n",
       "      <th></th>\n",
       "      <th></th>\n",
       "    </tr>\n",
       "  </thead>\n",
       "  <tbody>\n",
       "    <tr>\n",
       "      <th rowspan=\"5\" valign=\"top\">0</th>\n",
       "      <th>0</th>\n",
       "      <td>85.432265</td>\n",
       "      <td>3012.459039</td>\n",
       "    </tr>\n",
       "    <tr>\n",
       "      <th>1</th>\n",
       "      <td>86.043741</td>\n",
       "      <td>2962.543760</td>\n",
       "    </tr>\n",
       "    <tr>\n",
       "      <th>2</th>\n",
       "      <td>85.592652</td>\n",
       "      <td>2902.633431</td>\n",
       "    </tr>\n",
       "    <tr>\n",
       "      <th>3</th>\n",
       "      <td>86.073813</td>\n",
       "      <td>2987.501400</td>\n",
       "    </tr>\n",
       "    <tr>\n",
       "      <th>4</th>\n",
       "      <td>88.539765</td>\n",
       "      <td>3581.597172</td>\n",
       "    </tr>\n",
       "    <tr>\n",
       "      <th>...</th>\n",
       "      <th>...</th>\n",
       "      <td>...</td>\n",
       "      <td>...</td>\n",
       "    </tr>\n",
       "    <tr>\n",
       "      <th rowspan=\"5\" valign=\"top\">9</th>\n",
       "      <th>19</th>\n",
       "      <td>81.933822</td>\n",
       "      <td>2308.797530</td>\n",
       "    </tr>\n",
       "    <tr>\n",
       "      <th>20</th>\n",
       "      <td>82.174403</td>\n",
       "      <td>2349.847200</td>\n",
       "    </tr>\n",
       "    <tr>\n",
       "      <th>21</th>\n",
       "      <td>82.074161</td>\n",
       "      <td>2332.825630</td>\n",
       "    </tr>\n",
       "    <tr>\n",
       "      <th>22</th>\n",
       "      <td>81.803508</td>\n",
       "      <td>2286.768440</td>\n",
       "    </tr>\n",
       "    <tr>\n",
       "      <th>23</th>\n",
       "      <td>81.262201</td>\n",
       "      <td>2194.654060</td>\n",
       "    </tr>\n",
       "  </tbody>\n",
       "</table>\n",
       "<p>240 rows × 2 columns</p>\n",
       "</div>"
      ],
      "text/plain": [
       "                 1001         2000\n",
       "  TimeStep                        \n",
       "0 0         85.432265  3012.459039\n",
       "  1         86.043741  2962.543760\n",
       "  2         85.592652  2902.633431\n",
       "  3         86.073813  2987.501400\n",
       "  4         88.539765  3581.597172\n",
       "...               ...          ...\n",
       "9 19        81.933822  2308.797530\n",
       "  20        82.174403  2349.847200\n",
       "  21        82.074161  2332.825630\n",
       "  22        81.803508  2286.768440\n",
       "  23        81.262201  2194.654060\n",
       "\n",
       "[240 rows x 2 columns]"
      ]
     },
     "execution_count": 21,
     "metadata": {},
     "output_type": "execute_result"
    }
   ],
   "source": [
    "aggregation.createTypicalPeriods()"
   ]
  },
  {
   "cell_type": "code",
   "execution_count": 26,
   "metadata": {},
   "outputs": [
    {
     "name": "stdout",
     "output_type": "stream",
     "text": [
      "Pearson correlation coefficient for 1001 :\n",
      "10 days:\n",
      "0.993983550243297\n",
      "10 days normalized:\n",
      "0.9939835502432972\n",
      "20 days:\n",
      "0.9970729820569205\n",
      "Pearson correlation coefficient for 2000 :\n",
      "10 days:\n",
      "0.9926242135406244\n",
      "10 days normalized:\n",
      "0.9926242135406247\n",
      "20 days:\n",
      "0.9972346972013137\n"
     ]
    }
   ],
   "source": [
    "for segment in raw:\n",
    "    print('Pearson correlation coefficient for ' + str(segment) + \" :\")\n",
    "    print(name_predicted10)\n",
    "    print(np.corrcoef(raw[segment],predicted10[segment])[0, 1])\n",
    "    print(name_predicted10normb)\n",
    "    print(np.corrcoef(raw[segment],predicted10normb[segment])[0, 1])\n",
    "    print(name_predicted20)\n",
    "    print(np.corrcoef(raw[segment],predicted20[segment])[0, 1])"
   ]
  },
  {
   "cell_type": "code",
   "execution_count": null,
   "metadata": {},
   "outputs": [],
   "source": []
  },
  {
   "cell_type": "code",
   "execution_count": null,
   "metadata": {},
   "outputs": [],
   "source": []
  },
  {
   "cell_type": "code",
   "execution_count": null,
   "metadata": {},
   "outputs": [],
   "source": []
  }
 ],
 "metadata": {
  "kernelspec": {
   "display_name": "Python 3",
   "language": "python",
   "name": "python3"
  },
  "language_info": {
   "codemirror_mode": {
    "name": "ipython",
    "version": 3
   },
   "file_extension": ".py",
   "mimetype": "text/x-python",
   "name": "python",
   "nbconvert_exporter": "python",
   "pygments_lexer": "ipython3",
   "version": "3.7.6"
  }
 },
 "nbformat": 4,
 "nbformat_minor": 4
}
