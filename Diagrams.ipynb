import pandas as pd
import matplotlib.pyplot as plt
import numpy as np;np.random.seed(9)
seg=[1000,2000,3000,4000,5000,6000,7000,8000]

def coloring():
    colors = {'biomass': 'green',
              'coal': 'k',
              'gas': 'orange',
              'eeg_gas': 'olive',
              'geothermal': 'purple',
              'lignite': 'brown',
              'oil': 'darkgrey',
              'other_non_renewable': 'pink',
              'reservoir': 'navy',
              'run_of_river': 'aqua',
              'pumped_storage': 'steelblue',
              'solar': 'yellow',
              'uranium': 'lime',
              'waste': 'sienna',
              'wind': 'blue',
              'wind_onshore': 'skyblue',
              'wind_offshore': 'cornflowerblue',
              'slack': 'pink',
              'load shedding': 'red',
              'nan': 'm',
              'imports': 'salmon',
              '': 'm'}
    return colors
    
# Make diagram for stacked generation
resolution = "MW"
reso_int = 1 # if resolution == 'MW':
loads_t = pd.read_csv('results_thesis/results_8760_kmeans50_raw/loads-p.csv', index_col = 0)
generators_t = pd.read_csv('results_thesis/results_8760_kmeans50_raw/generators-p.csv', index_col = 0)
generators = pd.read_csv('results_thesis/results_8760_kmeans50_raw/generators.csv', index_col = 0)
snapshot_weightings = pd.read_csv('results_thesis/results_8760_kmeans50_raw/snapshots.csv', index_col = 0)
load = loads_t.sum(axis=1)

p_by_carrier = pd.concat(
            [generators_t
             [generators[generators.control != 'Slack'].index],
             generators_t.mul(snapshot_weightings, axis=0)
             [generators[generators.control ==
                                 'Slack'].index].iloc[:, 0].apply(
                                     lambda x: x if x > 0 else 0)],
            axis=1).groupby(generators.carrier, axis=1).sum()

#trade_sum = network.foreign_trade.sum(axis=1)
#p_by_carrier['imports'] = trade_sum[trade_sum > 0]
#p_by_carrier['imports'] = p_by_carrier['imports'].fillna(0)
colors = coloring()
"""fig, ax = plt.subplots(1, 1)

fig.set_size_inches(12, 6)
colors = [colors[col] for col in p_by_carrier.columns]
if len(colors) == 1:
    colors = colors[0]
(p_by_carrier / reso_int).iloc[1:744].plot(kind="area", ax=ax, linewidth=0)
(load / reso_int).iloc[1:744].plot(ax=ax, legend='load', lw=2, color='darkgrey',
                       style='--')
ax.legend(ncol=4, loc="upper left")

ax.set_ylabel(resolution)
ax.set_xlabel("January")"""

fig, ax = plt.subplots(1, 1)

fig.set_size_inches(12, 6)
colors = [colors[col] for col in p_by_carrier.columns]
if len(colors) == 1:
    colors = colors[0]
(p_by_carrier / reso_int).iloc[4344:5088].plot(kind="area", ax=ax, linewidth=0)
(load / reso_int).iloc[4344:5088].plot(ax=ax, legend='load', lw=2, color='darkgrey',
                       style='--')
ax.legend(ncol=4, loc="upper left")

ax.set_ylabel(resolution)
ax.set_xlabel("July")

# Electrolyser load diagrams
for x in seg:
    df = pd.read_csv('results_segmno/segm' + str(x) + '_kmeans50/links-p0.csv', index_col = 0)
    del df['3']; del df['4']; del df['2']; del df['1']
    df["sum"] = df.sum(axis=1)
    df1 = df["sum"].copy()
    v = 0
    df_ext = []
    for row in df1:
        if row != 0:
            v = (row)
            #print(v)
            df_ext.append(v)
        else:
            df_ext.append(v)
    df_fin = pd.Series(df_ext)

    fig, ax = plt.subplots(figsize=(10,7), dpi = 100, nrows = 1, ncols = 1)
    ax = df_fin.plot()
    ax.set_xticklabels(['Jan', 'Jan', 'Mar', 'Jun', 'Sep', 'Nov'])
    for i, l in enumerate(ax.lines):
        plt.setp(l, linewidth=0.3)
    #ax.xlabel('Days')
    #fig.savefig('results_segmno/elec_ts_' + str(x) + '.png')
